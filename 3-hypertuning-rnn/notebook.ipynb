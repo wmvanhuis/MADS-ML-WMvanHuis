{
 "cells": [
  {
   "cell_type": "code",
   "execution_count": 202,
   "metadata": {},
   "outputs": [
    {
     "data": {
      "text/plain": [
       "'0.2.5'"
      ]
     },
     "execution_count": 202,
     "metadata": {},
     "output_type": "execute_result"
    }
   ],
   "source": [
    "from pathlib import Path\n",
    "import numpy as np\n",
    "import torch\n",
    "from typing import List\n",
    "from torch.nn.utils.rnn import pad_sequence\n",
    "from mltrainer import rnn_models, Trainer\n",
    "from torch import optim\n",
    "\n",
    "from mads_datasets import datatools\n",
    "import mltrainer\n",
    "mltrainer.__version__"
   ]
  },
  {
   "attachments": {},
   "cell_type": "markdown",
   "metadata": {},
   "source": [
    "# 1 Iterators\n",
    "We will be using an interesting dataset. [link](https://tev.fbk.eu/resources/smartwatch)\n",
    "\n",
    "From the site:\n",
    "> The SmartWatch Gestures Dataset has been collected to evaluate several gesture recognition algorithms for interacting with mobile applications using arm gestures. Eight different users performed twenty repetitions of twenty different gestures, for a total of 3200 sequences. Each sequence contains acceleration data from the 3-axis accelerometer of a first generation Sony SmartWatch™, as well as timestamps from the different clock sources available on an Android device. The smartwatch was worn on the user's right wrist. \n"
   ]
  },
  {
   "cell_type": "code",
   "execution_count": 203,
   "metadata": {},
   "outputs": [
    {
     "name": "stderr",
     "output_type": "stream",
     "text": [
      "\u001b[32m2025-09-27 14:38:42.898\u001b[0m | \u001b[1mINFO    \u001b[0m | \u001b[36mmads_datasets.base\u001b[0m:\u001b[36mdownload_data\u001b[0m:\u001b[36m121\u001b[0m - \u001b[1mFolder already exists at /Users/wouter/.cache/mads_datasets/gestures\u001b[0m\n",
      "100%|\u001b[38;2;30;71;6m██████████\u001b[0m| 2600/2600 [00:00<00:00, 13335.23it/s]\n",
      "100%|\u001b[38;2;30;71;6m██████████\u001b[0m| 651/651 [00:00<00:00, 13308.57it/s]\n"
     ]
    }
   ],
   "source": [
    "from mads_datasets import DatasetFactoryProvider, DatasetType\n",
    "from mltrainer.preprocessors import PaddedPreprocessor\n",
    "preprocessor = PaddedPreprocessor()\n",
    "\n",
    "gesturesdatasetfactory = DatasetFactoryProvider.create_factory(DatasetType.GESTURES)\n",
    "streamers = gesturesdatasetfactory.create_datastreamer(batchsize=32, preprocessor=preprocessor)\n",
    "train = streamers[\"train\"]\n",
    "valid = streamers[\"valid\"]"
   ]
  },
  {
   "cell_type": "code",
   "execution_count": 204,
   "metadata": {},
   "outputs": [
    {
     "data": {
      "text/plain": [
       "(81, 20)"
      ]
     },
     "execution_count": 204,
     "metadata": {},
     "output_type": "execute_result"
    }
   ],
   "source": [
    "len(train), len(valid)"
   ]
  },
  {
   "cell_type": "code",
   "execution_count": 205,
   "metadata": {},
   "outputs": [
    {
     "data": {
      "text/plain": [
       "(torch.Size([32, 30, 3]),\n",
       " tensor([10,  1, 19,  1,  0, 12, 13,  1, 18,  5,  5,  6, 13, 11, 16,  8, 10, 10,\n",
       "          1,  6, 19,  5, 10,  6,  1, 18,  6,  1,  5, 13,  9, 11]))"
      ]
     },
     "execution_count": 205,
     "metadata": {},
     "output_type": "execute_result"
    }
   ],
   "source": [
    "trainstreamer = train.stream()\n",
    "validstreamer = valid.stream()\n",
    "x, y = next(iter(trainstreamer))\n",
    "x.shape, y"
   ]
  },
  {
   "attachments": {},
   "cell_type": "markdown",
   "metadata": {},
   "source": [
    "Can you make sense of the shape?\n",
    "What does it mean that the shapes are sometimes (32, 27, 3), but a second time might look like (32, 30, 3)? In other words, the second (or first, if you insist on starting at 0) dimension changes. Why is that? How does the model handle this? Do you think this is already padded, or still has to be padded?\n",
    "\n",
    "\n",
    "# 2 Excercises\n",
    "Lets test a basemodel, and try to improve upon that.\n",
    "\n",
    "Fill the gestures.gin file with relevant settings for `input_size`, `hidden_size`, `num_layers` and `horizon` (which, in our case, will be the number of classes...)\n",
    "\n",
    "As a rule of thumbs: start lower than you expect to need!"
   ]
  },
  {
   "cell_type": "code",
   "execution_count": 206,
   "metadata": {},
   "outputs": [],
   "source": [
    "from mltrainer import TrainerSettings, ReportTypes\n",
    "from mltrainer.metrics import Accuracy\n",
    "\n",
    "accuracy = Accuracy()\n"
   ]
  },
  {
   "cell_type": "code",
   "execution_count": 216,
   "metadata": {},
   "outputs": [
    {
     "name": "stdout",
     "output_type": "stream",
     "text": [
      "[CNNRNN] Conv front-end: channels=(32, 64), kernels=(5, 3), pool=2\n",
      "[CNNRNN] RNN: type=GRU, hidden=128, layers=1, bidirectional=True\n"
     ]
    },
    {
     "data": {
      "text/plain": [
       "CNNRNNClassifier(\n",
       "  (conv): Sequential(\n",
       "    (0): Conv1d(3, 32, kernel_size=(5,), stride=(1,), padding=(2,))\n",
       "    (1): ReLU()\n",
       "    (2): MaxPool1d(kernel_size=2, stride=2, padding=0, dilation=1, ceil_mode=False)\n",
       "    (3): Conv1d(32, 64, kernel_size=(3,), stride=(1,), padding=(1,))\n",
       "    (4): ReLU()\n",
       "    (5): MaxPool1d(kernel_size=2, stride=2, padding=0, dilation=1, ceil_mode=False)\n",
       "  )\n",
       "  (rnn): GRU(64, 128, batch_first=True, bidirectional=True)\n",
       "  (head): Sequential(\n",
       "    (0): Dropout(p=0.2, inplace=False)\n",
       "    (1): Linear(in_features=256, out_features=20, bias=True)\n",
       "  )\n",
       ")"
      ]
     },
     "execution_count": 216,
     "metadata": {},
     "output_type": "execute_result"
    }
   ],
   "source": [
    "# --- Cell #7: Conv1D + RNN (LSTM/GRU) ---\n",
    "# Vormaanname voor batches uit je dataloader/streamer: X heeft shape (B, T, F)\n",
    "# Conv1d verwacht (B, C_in, T) -> hier is C_in = F (features), T = tijd.\n",
    "# Na Conv/Pool transponeren we terug naar (B, T', C_out) en voeren we een RNN uit.\n",
    "\n",
    "import torch\n",
    "import torch.nn as nn\n",
    "\n",
    "# 1) Kies je RNN-type: 'lstm' of 'gru'\n",
    "rnn_type = \"gru\"     # zet op \"gru\" om GRU te testen\n",
    "\n",
    "# 2) Hyperparameters (goede startwaarden voor >90%)\n",
    "input_size    = 3\n",
    "conv_channels = (32, 64)   # twee conv-blokken\n",
    "kernel_sizes  = (5, 3)     # bijpassende kernels\n",
    "pool          = 2          # MaxPool1d factor (verkort T)\n",
    "hidden_size   = 128        # RNN hidden dim na conv\n",
    "num_layers    = 1          # vaak genoeg na goede conv-front-end\n",
    "rnn_dropout   = 0.2\n",
    "bidirectional = True\n",
    "\n",
    "# 3) Bepaal num_classes robuust\n",
    "try:\n",
    "    xb, yb = next(iter(trainstreamer))\n",
    "    num_classes = int(yb.max().item() + 1)\n",
    "except Exception:\n",
    "    num_classes = 10  # fallback; pas aan zodra je labels weet\n",
    "\n",
    "class CNNRNNClassifier(nn.Module):\n",
    "    \"\"\"\n",
    "    Pipeline:\n",
    "      In:  x (B, T, F)\n",
    "      ->   x^T (B, F, T)  # transpose voor Conv1d\n",
    "      ->   Conv1d/Pool stack: (B, C_out, T')\n",
    "      ->   transpose terug: (B, T', C_out)\n",
    "      ->   RNN (LSTM/GRU) over tijd\n",
    "      ->   laatste (bi)hidden concat -> classificatie-head\n",
    "    \"\"\"\n",
    "    def __init__(self,\n",
    "                 input_dim,\n",
    "                 num_classes,\n",
    "                 rnn_type=\"lstm\",\n",
    "                 conv_channels=(32, 64),\n",
    "                 kernel_sizes=(5, 3),\n",
    "                 pool=2,\n",
    "                 hidden=128,\n",
    "                 num_layers=1,\n",
    "                 rnn_dropout=0.2,\n",
    "                 bidirectional=True):\n",
    "        super().__init__()\n",
    "        assert len(conv_channels) == len(kernel_sizes), \"conv_channels en kernel_sizes moeten even lang zijn\"\n",
    "\n",
    "        layers = []\n",
    "        in_ch = input_dim  # F\n",
    "        for ch, k in zip(conv_channels, kernel_sizes):\n",
    "            # Output shape: (B, ch, T) met padding=k//2 ⇒ T blijft ~gelijk, daarna pool ⇒ T' = floor(T / pool)\n",
    "            layers += [\n",
    "                nn.Conv1d(in_ch, ch, kernel_size=k, padding=k//2),\n",
    "                nn.ReLU(),\n",
    "                nn.MaxPool1d(pool)\n",
    "            ]\n",
    "            in_ch = ch\n",
    "        self.conv = nn.Sequential(*layers)\n",
    "\n",
    "        self.rnn_type = rnn_type.lower()\n",
    "        rnn_in = in_ch  # laatste aantal channels uit conv-stack\n",
    "\n",
    "        if self.rnn_type == \"gru\":\n",
    "            self.rnn = nn.GRU(\n",
    "                input_size=rnn_in,\n",
    "                hidden_size=hidden,\n",
    "                num_layers=num_layers,\n",
    "                batch_first=True,\n",
    "                dropout=rnn_dropout if num_layers > 1 else 0.0,\n",
    "                bidirectional=bidirectional\n",
    "            )\n",
    "        else:\n",
    "            self.rnn = nn.LSTM(\n",
    "                input_size=rnn_in,\n",
    "                hidden_size=hidden,\n",
    "                num_layers=num_layers,\n",
    "                batch_first=True,\n",
    "                dropout=rnn_dropout if num_layers > 1 else 0.0,\n",
    "                bidirectional=bidirectional\n",
    "            )\n",
    "\n",
    "        out_dim = hidden * (2 if bidirectional else 1)\n",
    "        self.head = nn.Sequential(nn.Dropout(rnn_dropout), nn.Linear(out_dim, num_classes))\n",
    "\n",
    "    def forward(self, x):\n",
    "        # x: (B, T, F)\n",
    "        x = x.transpose(1, 2)          # -> (B, F, T) voor Conv1d\n",
    "        z = self.conv(x)               # -> (B, C_out, T')\n",
    "        z = z.transpose(1, 2)          # -> (B, T', C_out)\n",
    "        out = self.rnn(z)\n",
    "        if isinstance(out, tuple):     # LSTM: out = (out, (h, c))\n",
    "            h = out[1][0]\n",
    "        else:                          # GRU:  out = (out, h)\n",
    "            h = out[1]\n",
    "        # h: (layers*dirs, B, H)\n",
    "        last = torch.cat([h[-2], h[-1]], dim=-1) if self.rnn.bidirectional else h[-1]\n",
    "        return self.head(last)\n",
    "\n",
    "# 4) Instantieer het model in variabele 'model' (je notebook gebruikt 'model' downstream)\n",
    "model = CNNRNNClassifier(\n",
    "    input_dim=input_size,\n",
    "    num_classes=num_classes,\n",
    "    rnn_type=rnn_type,\n",
    "    conv_channels=conv_channels,\n",
    "    kernel_sizes=kernel_sizes,\n",
    "    pool=pool,\n",
    "    hidden=hidden_size,\n",
    "    num_layers=num_layers,\n",
    "    rnn_dropout=rnn_dropout,\n",
    "    bidirectional=bidirectional\n",
    ")\n",
    "\n",
    "# Handige print over de vormveranderingen:\n",
    "print(f\"[CNNRNN] Conv front-end: channels={conv_channels}, kernels={kernel_sizes}, pool={pool}\")\n",
    "print(f\"[CNNRNN] RNN: type={rnn_type.upper()}, hidden={hidden_size}, layers={num_layers}, bidirectional={bidirectional}\")\n",
    "model"
   ]
  },
  {
   "attachments": {},
   "cell_type": "markdown",
   "metadata": {},
   "source": [
    "Test the model. What is the output shape you need? Remember, we are doing classification!"
   ]
  },
  {
   "cell_type": "code",
   "execution_count": 214,
   "metadata": {},
   "outputs": [
    {
     "data": {
      "text/plain": [
       "torch.Size([20])"
      ]
     },
     "execution_count": 214,
     "metadata": {},
     "output_type": "execute_result"
    }
   ],
   "source": [
    "yhat = model(x)\n",
    "yhat.shape"
   ]
  },
  {
   "attachments": {},
   "cell_type": "markdown",
   "metadata": {},
   "source": [
    "Test the accuracy"
   ]
  },
  {
   "cell_type": "code",
   "execution_count": 217,
   "metadata": {},
   "outputs": [
    {
     "ename": "IndexError",
     "evalue": "Dimension out of range (expected to be in range of [-1, 0], but got 1)",
     "output_type": "error",
     "traceback": [
      "\u001b[31m---------------------------------------------------------------------------\u001b[39m",
      "\u001b[31mIndexError\u001b[39m                                Traceback (most recent call last)",
      "\u001b[36mCell\u001b[39m\u001b[36m \u001b[39m\u001b[32mIn[217]\u001b[39m\u001b[32m, line 1\u001b[39m\n\u001b[32m----> \u001b[39m\u001b[32m1\u001b[39m \u001b[43maccuracy\u001b[49m\u001b[43m(\u001b[49m\u001b[43my\u001b[49m\u001b[43m,\u001b[49m\u001b[43m \u001b[49m\u001b[43myhat\u001b[49m\u001b[43m)\u001b[49m\n",
      "\u001b[36mFile \u001b[39m\u001b[32m~/Documents/HAN/3_Deep Learning and Model Deployment/3_Afternoon lessons/GIT/MADS-ML-WMvanHuis-1/.venv/lib/python3.12/site-packages/mltrainer/metrics.py:34\u001b[39m, in \u001b[36mMetric.__call__\u001b[39m\u001b[34m(self, y, yhat)\u001b[39m\n\u001b[32m     31\u001b[39m yhat = yhat.to(device)\n\u001b[32m     33\u001b[39m \u001b[38;5;66;03m# Compute metric\u001b[39;00m\n\u001b[32m---> \u001b[39m\u001b[32m34\u001b[39m result = \u001b[38;5;28;43mself\u001b[39;49m\u001b[43m.\u001b[49m\u001b[43m_compute\u001b[49m\u001b[43m(\u001b[49m\u001b[43my\u001b[49m\u001b[43m,\u001b[49m\u001b[43m \u001b[49m\u001b[43myhat\u001b[49m\u001b[43m)\u001b[49m\n\u001b[32m     36\u001b[39m \u001b[38;5;66;03m# Return as float for consistency\u001b[39;00m\n\u001b[32m     37\u001b[39m \u001b[38;5;28;01mreturn\u001b[39;00m \u001b[38;5;28mfloat\u001b[39m(result.cpu().detach())\n",
      "\u001b[36mFile \u001b[39m\u001b[32m~/Documents/HAN/3_Deep Learning and Model Deployment/3_Afternoon lessons/GIT/MADS-ML-WMvanHuis-1/.venv/lib/python3.12/site-packages/mltrainer/metrics.py:81\u001b[39m, in \u001b[36mAccuracy._compute\u001b[39m\u001b[34m(self, y, yhat)\u001b[39m\n\u001b[32m     80\u001b[39m \u001b[38;5;28;01mdef\u001b[39;00m\u001b[38;5;250m \u001b[39m\u001b[34m_compute\u001b[39m(\u001b[38;5;28mself\u001b[39m, y: torch.Tensor, yhat: torch.Tensor) -> torch.Tensor:\n\u001b[32m---> \u001b[39m\u001b[32m81\u001b[39m     predictions = \u001b[43myhat\u001b[49m\u001b[43m.\u001b[49m\u001b[43margmax\u001b[49m\u001b[43m(\u001b[49m\u001b[43mdim\u001b[49m\u001b[43m=\u001b[49m\u001b[32;43m1\u001b[39;49m\u001b[43m)\u001b[49m\n\u001b[32m     82\u001b[39m     \u001b[38;5;28;01mreturn\u001b[39;00m (predictions == y).float().mean()\n",
      "\u001b[31mIndexError\u001b[39m: Dimension out of range (expected to be in range of [-1, 0], but got 1)"
     ]
    }
   ],
   "source": [
    "accuracy(y, yhat)"
   ]
  },
  {
   "attachments": {},
   "cell_type": "markdown",
   "metadata": {},
   "source": [
    "What do you think of the accuracy? What would you expect from blind guessing?\n",
    "\n",
    "Check shape of `y` and `yhat`"
   ]
  },
  {
   "cell_type": "code",
   "execution_count": 181,
   "metadata": {},
   "outputs": [
    {
     "data": {
      "text/plain": [
       "(torch.Size([32, 20]), torch.Size([32]))"
      ]
     },
     "execution_count": 181,
     "metadata": {},
     "output_type": "execute_result"
    }
   ],
   "source": [
    "yhat.shape, y.shape"
   ]
  },
  {
   "attachments": {},
   "cell_type": "markdown",
   "metadata": {},
   "source": [
    "And look at the output of yhat"
   ]
  },
  {
   "cell_type": "code",
   "execution_count": 182,
   "metadata": {},
   "outputs": [
    {
     "data": {
      "text/plain": [
       "tensor([ 0.0615, -0.0759,  0.0669, -0.0312, -0.1881,  0.1662, -0.0910, -0.0354,\n",
       "        -0.0352,  0.0975, -0.0048, -0.0996,  0.0539, -0.1925, -0.0936, -0.2428,\n",
       "         0.2182, -0.0504, -0.0415, -0.0028], grad_fn=<SelectBackward0>)"
      ]
     },
     "execution_count": 182,
     "metadata": {},
     "output_type": "execute_result"
    }
   ],
   "source": [
    "yhat[0]"
   ]
  },
  {
   "attachments": {},
   "cell_type": "markdown",
   "metadata": {},
   "source": [
    "Does this make sense to you? If you are unclear, go back to the classification problem with the MNIST, where we had 10 classes.\n",
    "\n",
    "We have a classification problem, so we need Cross Entropy Loss.\n",
    "Remember, [this has a softmax built in](https://pytorch.org/docs/stable/generated/torch.nn.CrossEntropyLoss.html) "
   ]
  },
  {
   "cell_type": "code",
   "execution_count": 183,
   "metadata": {},
   "outputs": [
    {
     "data": {
      "text/plain": [
       "tensor(2.9956, grad_fn=<NllLossBackward0>)"
      ]
     },
     "execution_count": 183,
     "metadata": {},
     "output_type": "execute_result"
    }
   ],
   "source": [
    "loss_fn = torch.nn.CrossEntropyLoss()\n",
    "loss = loss_fn(yhat, y)\n",
    "loss"
   ]
  },
  {
   "cell_type": "code",
   "execution_count": 184,
   "metadata": {},
   "outputs": [
    {
     "name": "stdout",
     "output_type": "stream",
     "text": [
      "Using MPS\n"
     ]
    }
   ],
   "source": [
    "import torch\n",
    "if torch.backends.mps.is_available() and torch.backends.mps.is_built():\n",
    "    device = torch.device(\"mps\")\n",
    "    print(\"Using MPS\")\n",
    "elif torch.cuda.is_available():\n",
    "    device = \"cuda:0\"\n",
    "    print(\"using cuda\")\n",
    "else:\n",
    "    device = \"cpu\"\n",
    "    print(\"using cpu\")\n",
    "\n",
    "# on my mac, at least for the BaseRNN model, mps does not speed up training\n",
    "# probably because the overhead of copying the data to the GPU is too high\n",
    "# so i override the device to cpu\n",
    "device = \"cpu\"\n",
    "# however, it might speed up training for larger models, with more parameters"
   ]
  },
  {
   "cell_type": "markdown",
   "metadata": {},
   "source": [
    "Set up the settings for the trainer and the different types of logging you want"
   ]
  },
  {
   "cell_type": "code",
   "execution_count": 185,
   "metadata": {},
   "outputs": [
    {
     "data": {
      "text/plain": [
       "epochs: 35\n",
       "metrics: [Accuracy]\n",
       "logdir: gestures\n",
       "train_steps: 81\n",
       "valid_steps: 20\n",
       "reporttypes: [<ReportTypes.TOML: 'TOML'>, <ReportTypes.TENSORBOARD: 'TENSORBOARD'>, <ReportTypes.MLFLOW: 'MLFLOW'>]\n",
       "optimizer_kwargs: {'lr': 0.001, 'weight_decay': 1e-05}\n",
       "scheduler_kwargs: {'factor': 0.5, 'patience': 5}\n",
       "earlystop_kwargs: {'save': False, 'verbose': True, 'patience': 8, 'delta': 0.0}"
      ]
     },
     "execution_count": 185,
     "metadata": {},
     "output_type": "execute_result"
    }
   ],
   "source": [
    "settings = TrainerSettings(\n",
    "    epochs=35, # increase this to about 100 for training\n",
    "    metrics=[accuracy],\n",
    "    logdir=Path(\"gestures\"),\n",
    "    train_steps=len(train),\n",
    "    valid_steps=len(valid),\n",
    "    reporttypes=[ReportTypes.TOML, ReportTypes.TENSORBOARD, ReportTypes.MLFLOW],\n",
    "    scheduler_kwargs={\"factor\": 0.5, \"patience\": 5},\n",
    "    earlystop_kwargs = {\n",
    "        \"save\": False, # save every best model, and restore the best one\n",
    "        \"verbose\": True,\n",
    "        \"patience\": 8, # number of epochs with no improvement after which training will be stopped\n",
    "        \"delta\": 0.0, # minimum change to be considered an improvement\n",
    "    }\n",
    ")\n",
    "settings"
   ]
  },
  {
   "cell_type": "code",
   "execution_count": 186,
   "metadata": {},
   "outputs": [],
   "source": [
    "import torch.nn as nn\n",
    "import torch\n",
    "from torch import Tensor\n",
    "from dataclasses import dataclass\n",
    "\n",
    "@dataclass\n",
    "class ModelConfig:\n",
    "    input_size: int\n",
    "    hidden_size: int\n",
    "    num_layers: int\n",
    "    output_size: int\n",
    "    dropout: float = 0.0\n",
    "\n",
    "class GRUmodel(nn.Module):\n",
    "    def __init__(\n",
    "        self,\n",
    "        config,\n",
    "    ) -> None:\n",
    "        super().__init__()\n",
    "        self.config = config\n",
    "        self.rnn = nn.GRU(\n",
    "            input_size=config.input_size,\n",
    "            hidden_size=config.hidden_size,\n",
    "            dropout=config.dropout,\n",
    "            batch_first=True,\n",
    "            num_layers=config.num_layers,\n",
    "        )\n",
    "        self.linear = nn.Linear(config.hidden_size, config.output_size)\n",
    "\n",
    "    def forward(self, x: Tensor) -> Tensor:\n",
    "        x, _ = self.rnn(x)\n",
    "        last_step = x[:, -1, :]\n",
    "        yhat = self.linear(last_step)\n",
    "        return yhat"
   ]
  },
  {
   "cell_type": "code",
   "execution_count": 187,
   "metadata": {},
   "outputs": [],
   "source": [
    "config = ModelConfig(\n",
    "    input_size=3,\n",
    "    hidden_size=64,\n",
    "    num_layers=1,\n",
    "    output_size=20,\n",
    "    dropout=0.0,\n",
    ")\n"
   ]
  },
  {
   "cell_type": "code",
   "execution_count": 188,
   "metadata": {},
   "outputs": [
    {
     "name": "stderr",
     "output_type": "stream",
     "text": [
      "\u001b[32m2025-09-27 14:34:24.623\u001b[0m | \u001b[1mINFO    \u001b[0m | \u001b[36mmltrainer.trainer\u001b[0m:\u001b[36mdir_add_timestamp\u001b[0m:\u001b[36m24\u001b[0m - \u001b[1mLogging to gestures/20250927-143424\u001b[0m\n",
      "\u001b[32m2025-09-27 14:34:24.624\u001b[0m | \u001b[1mINFO    \u001b[0m | \u001b[36mmltrainer.trainer\u001b[0m:\u001b[36m__init__\u001b[0m:\u001b[36m68\u001b[0m - \u001b[1mFound earlystop_kwargs in settings.Set to None if you dont want earlystopping.\u001b[0m\n",
      "100%|\u001b[38;2;30;71;6m██████████\u001b[0m| 81/81 [00:01<00:00, 45.37it/s]\n",
      "\u001b[32m2025-09-27 14:34:26.611\u001b[0m | \u001b[1mINFO    \u001b[0m | \u001b[36mmltrainer.trainer\u001b[0m:\u001b[36mreport\u001b[0m:\u001b[36m209\u001b[0m - \u001b[1mEpoch 0 train 2.4045 test 2.0700 metric ['0.2641']\u001b[0m\n",
      "100%|\u001b[38;2;30;71;6m██████████\u001b[0m| 81/81 [00:01<00:00, 44.64it/s]\n",
      "\u001b[32m2025-09-27 14:34:28.606\u001b[0m | \u001b[1mINFO    \u001b[0m | \u001b[36mmltrainer.trainer\u001b[0m:\u001b[36mreport\u001b[0m:\u001b[36m209\u001b[0m - \u001b[1mEpoch 1 train 1.5843 test 1.3089 metric ['0.4875']\u001b[0m\n",
      "100%|\u001b[38;2;30;71;6m██████████\u001b[0m| 81/81 [00:01<00:00, 47.06it/s]\n",
      "\u001b[32m2025-09-27 14:34:30.495\u001b[0m | \u001b[1mINFO    \u001b[0m | \u001b[36mmltrainer.trainer\u001b[0m:\u001b[36mreport\u001b[0m:\u001b[36m209\u001b[0m - \u001b[1mEpoch 2 train 0.8888 test 0.6660 metric ['0.8219']\u001b[0m\n",
      "100%|\u001b[38;2;30;71;6m██████████\u001b[0m| 81/81 [00:01<00:00, 47.00it/s]\n",
      "\u001b[32m2025-09-27 14:34:32.400\u001b[0m | \u001b[1mINFO    \u001b[0m | \u001b[36mmltrainer.trainer\u001b[0m:\u001b[36mreport\u001b[0m:\u001b[36m209\u001b[0m - \u001b[1mEpoch 3 train 0.4376 test 0.2110 metric ['0.9531']\u001b[0m\n",
      "100%|\u001b[38;2;30;71;6m██████████\u001b[0m| 81/81 [00:01<00:00, 46.90it/s]\n",
      "\u001b[32m2025-09-27 14:34:34.304\u001b[0m | \u001b[1mINFO    \u001b[0m | \u001b[36mmltrainer.trainer\u001b[0m:\u001b[36mreport\u001b[0m:\u001b[36m209\u001b[0m - \u001b[1mEpoch 4 train 0.1273 test 0.0753 metric ['0.9875']\u001b[0m\n",
      "100%|\u001b[38;2;30;71;6m██████████\u001b[0m| 81/81 [00:01<00:00, 47.47it/s]\n",
      "\u001b[32m2025-09-27 14:34:36.176\u001b[0m | \u001b[1mINFO    \u001b[0m | \u001b[36mmltrainer.trainer\u001b[0m:\u001b[36mreport\u001b[0m:\u001b[36m209\u001b[0m - \u001b[1mEpoch 5 train 0.0749 test 0.0419 metric ['0.9906']\u001b[0m\n",
      "100%|\u001b[38;2;30;71;6m██████████\u001b[0m| 81/81 [00:01<00:00, 49.53it/s]\n",
      "\u001b[32m2025-09-27 14:34:37.976\u001b[0m | \u001b[1mINFO    \u001b[0m | \u001b[36mmltrainer.trainer\u001b[0m:\u001b[36mreport\u001b[0m:\u001b[36m209\u001b[0m - \u001b[1mEpoch 6 train 0.0519 test 0.0364 metric ['0.9906']\u001b[0m\n",
      "100%|\u001b[38;2;30;71;6m██████████\u001b[0m| 81/81 [00:01<00:00, 48.65it/s]\n",
      "\u001b[32m2025-09-27 14:34:39.818\u001b[0m | \u001b[1mINFO    \u001b[0m | \u001b[36mmltrainer.trainer\u001b[0m:\u001b[36mreport\u001b[0m:\u001b[36m209\u001b[0m - \u001b[1mEpoch 7 train 0.0542 test 0.1219 metric ['0.9656']\u001b[0m\n",
      "\u001b[32m2025-09-27 14:34:39.819\u001b[0m | \u001b[1mINFO    \u001b[0m | \u001b[36mmltrainer.trainer\u001b[0m:\u001b[36m__call__\u001b[0m:\u001b[36m252\u001b[0m - \u001b[1mbest loss: 0.0364, current loss 0.1219.Counter 1/8.\u001b[0m\n",
      "100%|\u001b[38;2;30;71;6m██████████\u001b[0m| 81/81 [00:01<00:00, 47.85it/s]\n",
      "\u001b[32m2025-09-27 14:34:41.689\u001b[0m | \u001b[1mINFO    \u001b[0m | \u001b[36mmltrainer.trainer\u001b[0m:\u001b[36mreport\u001b[0m:\u001b[36m209\u001b[0m - \u001b[1mEpoch 8 train 0.0537 test 0.0560 metric ['0.9828']\u001b[0m\n",
      "\u001b[32m2025-09-27 14:34:41.689\u001b[0m | \u001b[1mINFO    \u001b[0m | \u001b[36mmltrainer.trainer\u001b[0m:\u001b[36m__call__\u001b[0m:\u001b[36m252\u001b[0m - \u001b[1mbest loss: 0.0364, current loss 0.0560.Counter 2/8.\u001b[0m\n",
      "100%|\u001b[38;2;30;71;6m██████████\u001b[0m| 81/81 [00:01<00:00, 49.17it/s]\n",
      "\u001b[32m2025-09-27 14:34:43.501\u001b[0m | \u001b[1mINFO    \u001b[0m | \u001b[36mmltrainer.trainer\u001b[0m:\u001b[36mreport\u001b[0m:\u001b[36m209\u001b[0m - \u001b[1mEpoch 9 train 0.0222 test 0.0300 metric ['0.9875']\u001b[0m\n",
      "100%|\u001b[38;2;30;71;6m██████████\u001b[0m| 81/81 [00:01<00:00, 49.47it/s]\n",
      "\u001b[32m2025-09-27 14:34:45.303\u001b[0m | \u001b[1mINFO    \u001b[0m | \u001b[36mmltrainer.trainer\u001b[0m:\u001b[36mreport\u001b[0m:\u001b[36m209\u001b[0m - \u001b[1mEpoch 10 train 0.0151 test 0.0430 metric ['0.9844']\u001b[0m\n",
      "\u001b[32m2025-09-27 14:34:45.303\u001b[0m | \u001b[1mINFO    \u001b[0m | \u001b[36mmltrainer.trainer\u001b[0m:\u001b[36m__call__\u001b[0m:\u001b[36m252\u001b[0m - \u001b[1mbest loss: 0.0300, current loss 0.0430.Counter 1/8.\u001b[0m\n",
      "100%|\u001b[38;2;30;71;6m██████████\u001b[0m| 81/81 [00:01<00:00, 47.48it/s]\n",
      "\u001b[32m2025-09-27 14:34:47.189\u001b[0m | \u001b[1mINFO    \u001b[0m | \u001b[36mmltrainer.trainer\u001b[0m:\u001b[36mreport\u001b[0m:\u001b[36m209\u001b[0m - \u001b[1mEpoch 11 train 0.0073 test 0.0165 metric ['0.9953']\u001b[0m\n",
      "100%|\u001b[38;2;30;71;6m██████████\u001b[0m| 81/81 [00:01<00:00, 48.43it/s]\n",
      "\u001b[32m2025-09-27 14:34:49.038\u001b[0m | \u001b[1mINFO    \u001b[0m | \u001b[36mmltrainer.trainer\u001b[0m:\u001b[36mreport\u001b[0m:\u001b[36m209\u001b[0m - \u001b[1mEpoch 12 train 0.0082 test 0.0461 metric ['0.9828']\u001b[0m\n",
      "\u001b[32m2025-09-27 14:34:49.039\u001b[0m | \u001b[1mINFO    \u001b[0m | \u001b[36mmltrainer.trainer\u001b[0m:\u001b[36m__call__\u001b[0m:\u001b[36m252\u001b[0m - \u001b[1mbest loss: 0.0165, current loss 0.0461.Counter 1/8.\u001b[0m\n",
      "100%|\u001b[38;2;30;71;6m██████████\u001b[0m| 81/81 [00:01<00:00, 49.14it/s]\n",
      "\u001b[32m2025-09-27 14:34:50.853\u001b[0m | \u001b[1mINFO    \u001b[0m | \u001b[36mmltrainer.trainer\u001b[0m:\u001b[36mreport\u001b[0m:\u001b[36m209\u001b[0m - \u001b[1mEpoch 13 train 0.0173 test 0.0287 metric ['0.9922']\u001b[0m\n",
      "\u001b[32m2025-09-27 14:34:50.853\u001b[0m | \u001b[1mINFO    \u001b[0m | \u001b[36mmltrainer.trainer\u001b[0m:\u001b[36m__call__\u001b[0m:\u001b[36m252\u001b[0m - \u001b[1mbest loss: 0.0165, current loss 0.0287.Counter 2/8.\u001b[0m\n",
      "100%|\u001b[38;2;30;71;6m██████████\u001b[0m| 81/81 [00:01<00:00, 48.24it/s]\n",
      "\u001b[32m2025-09-27 14:34:52.709\u001b[0m | \u001b[1mINFO    \u001b[0m | \u001b[36mmltrainer.trainer\u001b[0m:\u001b[36mreport\u001b[0m:\u001b[36m209\u001b[0m - \u001b[1mEpoch 14 train 0.0211 test 0.1058 metric ['0.9703']\u001b[0m\n",
      "\u001b[32m2025-09-27 14:34:52.709\u001b[0m | \u001b[1mINFO    \u001b[0m | \u001b[36mmltrainer.trainer\u001b[0m:\u001b[36m__call__\u001b[0m:\u001b[36m252\u001b[0m - \u001b[1mbest loss: 0.0165, current loss 0.1058.Counter 3/8.\u001b[0m\n",
      "100%|\u001b[38;2;30;71;6m██████████\u001b[0m| 81/81 [00:01<00:00, 47.60it/s]\n",
      "\u001b[32m2025-09-27 14:34:54.590\u001b[0m | \u001b[1mINFO    \u001b[0m | \u001b[36mmltrainer.trainer\u001b[0m:\u001b[36mreport\u001b[0m:\u001b[36m209\u001b[0m - \u001b[1mEpoch 15 train 0.0260 test 0.0329 metric ['0.9891']\u001b[0m\n",
      "\u001b[32m2025-09-27 14:34:54.590\u001b[0m | \u001b[1mINFO    \u001b[0m | \u001b[36mmltrainer.trainer\u001b[0m:\u001b[36m__call__\u001b[0m:\u001b[36m252\u001b[0m - \u001b[1mbest loss: 0.0165, current loss 0.0329.Counter 4/8.\u001b[0m\n",
      "100%|\u001b[38;2;30;71;6m██████████\u001b[0m| 81/81 [00:01<00:00, 47.21it/s]\n",
      "\u001b[32m2025-09-27 14:34:56.477\u001b[0m | \u001b[1mINFO    \u001b[0m | \u001b[36mmltrainer.trainer\u001b[0m:\u001b[36mreport\u001b[0m:\u001b[36m209\u001b[0m - \u001b[1mEpoch 16 train 0.0116 test 0.0170 metric ['0.9938']\u001b[0m\n",
      "\u001b[32m2025-09-27 14:34:56.477\u001b[0m | \u001b[1mINFO    \u001b[0m | \u001b[36mmltrainer.trainer\u001b[0m:\u001b[36m__call__\u001b[0m:\u001b[36m252\u001b[0m - \u001b[1mbest loss: 0.0165, current loss 0.0170.Counter 5/8.\u001b[0m\n",
      "100%|\u001b[38;2;30;71;6m██████████\u001b[0m| 81/81 [00:01<00:00, 49.64it/s]\n",
      "\u001b[32m2025-09-27 14:34:58.280\u001b[0m | \u001b[1mINFO    \u001b[0m | \u001b[36mmltrainer.trainer\u001b[0m:\u001b[36mreport\u001b[0m:\u001b[36m209\u001b[0m - \u001b[1mEpoch 17 train 0.0066 test 0.0170 metric ['0.9922']\u001b[0m\n",
      "\u001b[32m2025-09-27 14:34:58.281\u001b[0m | \u001b[1mINFO    \u001b[0m | \u001b[36mmltrainer.trainer\u001b[0m:\u001b[36m__call__\u001b[0m:\u001b[36m252\u001b[0m - \u001b[1mbest loss: 0.0165, current loss 0.0170.Counter 6/8.\u001b[0m\n",
      "100%|\u001b[38;2;30;71;6m██████████\u001b[0m| 81/81 [00:01<00:00, 49.35it/s]\n",
      "\u001b[32m2025-09-27 14:35:00.104\u001b[0m | \u001b[1mINFO    \u001b[0m | \u001b[36mmltrainer.trainer\u001b[0m:\u001b[36mreport\u001b[0m:\u001b[36m209\u001b[0m - \u001b[1mEpoch 18 train 0.0029 test 0.0070 metric ['0.9984']\u001b[0m\n",
      "100%|\u001b[38;2;30;71;6m██████████\u001b[0m| 81/81 [00:01<00:00, 47.33it/s]\n",
      "\u001b[32m2025-09-27 14:35:01.992\u001b[0m | \u001b[1mINFO    \u001b[0m | \u001b[36mmltrainer.trainer\u001b[0m:\u001b[36mreport\u001b[0m:\u001b[36m209\u001b[0m - \u001b[1mEpoch 19 train 0.0027 test 0.0060 metric ['0.9984']\u001b[0m\n",
      "100%|\u001b[38;2;30;71;6m██████████\u001b[0m| 81/81 [00:01<00:00, 48.59it/s]\n",
      "\u001b[32m2025-09-27 14:35:03.821\u001b[0m | \u001b[1mINFO    \u001b[0m | \u001b[36mmltrainer.trainer\u001b[0m:\u001b[36mreport\u001b[0m:\u001b[36m209\u001b[0m - \u001b[1mEpoch 20 train 0.0027 test 0.0055 metric ['0.9984']\u001b[0m\n",
      "100%|\u001b[38;2;30;71;6m██████████\u001b[0m| 81/81 [00:01<00:00, 48.79it/s]\n",
      "\u001b[32m2025-09-27 14:35:05.641\u001b[0m | \u001b[1mINFO    \u001b[0m | \u001b[36mmltrainer.trainer\u001b[0m:\u001b[36mreport\u001b[0m:\u001b[36m209\u001b[0m - \u001b[1mEpoch 21 train 0.0018 test 0.0073 metric ['0.9969']\u001b[0m\n",
      "\u001b[32m2025-09-27 14:35:05.641\u001b[0m | \u001b[1mINFO    \u001b[0m | \u001b[36mmltrainer.trainer\u001b[0m:\u001b[36m__call__\u001b[0m:\u001b[36m252\u001b[0m - \u001b[1mbest loss: 0.0055, current loss 0.0073.Counter 1/8.\u001b[0m\n",
      "100%|\u001b[38;2;30;71;6m██████████\u001b[0m| 81/81 [00:01<00:00, 48.43it/s]\n",
      "\u001b[32m2025-09-27 14:35:07.487\u001b[0m | \u001b[1mINFO    \u001b[0m | \u001b[36mmltrainer.trainer\u001b[0m:\u001b[36mreport\u001b[0m:\u001b[36m209\u001b[0m - \u001b[1mEpoch 22 train 0.0021 test 0.0087 metric ['0.9969']\u001b[0m\n",
      "\u001b[32m2025-09-27 14:35:07.487\u001b[0m | \u001b[1mINFO    \u001b[0m | \u001b[36mmltrainer.trainer\u001b[0m:\u001b[36m__call__\u001b[0m:\u001b[36m252\u001b[0m - \u001b[1mbest loss: 0.0055, current loss 0.0087.Counter 2/8.\u001b[0m\n",
      "100%|\u001b[38;2;30;71;6m██████████\u001b[0m| 81/81 [00:01<00:00, 47.34it/s]\n",
      "\u001b[32m2025-09-27 14:35:09.379\u001b[0m | \u001b[1mINFO    \u001b[0m | \u001b[36mmltrainer.trainer\u001b[0m:\u001b[36mreport\u001b[0m:\u001b[36m209\u001b[0m - \u001b[1mEpoch 23 train 0.0020 test 0.0068 metric ['0.9969']\u001b[0m\n",
      "\u001b[32m2025-09-27 14:35:09.379\u001b[0m | \u001b[1mINFO    \u001b[0m | \u001b[36mmltrainer.trainer\u001b[0m:\u001b[36m__call__\u001b[0m:\u001b[36m252\u001b[0m - \u001b[1mbest loss: 0.0055, current loss 0.0068.Counter 3/8.\u001b[0m\n",
      "100%|\u001b[38;2;30;71;6m██████████\u001b[0m| 81/81 [00:01<00:00, 47.53it/s]\n",
      "\u001b[32m2025-09-27 14:35:11.253\u001b[0m | \u001b[1mINFO    \u001b[0m | \u001b[36mmltrainer.trainer\u001b[0m:\u001b[36mreport\u001b[0m:\u001b[36m209\u001b[0m - \u001b[1mEpoch 24 train 0.0019 test 0.0058 metric ['0.9969']\u001b[0m\n",
      "\u001b[32m2025-09-27 14:35:11.254\u001b[0m | \u001b[1mINFO    \u001b[0m | \u001b[36mmltrainer.trainer\u001b[0m:\u001b[36m__call__\u001b[0m:\u001b[36m252\u001b[0m - \u001b[1mbest loss: 0.0055, current loss 0.0058.Counter 4/8.\u001b[0m\n",
      "100%|\u001b[38;2;30;71;6m██████████\u001b[0m| 81/81 [00:01<00:00, 46.83it/s]\n",
      "\u001b[32m2025-09-27 14:35:13.168\u001b[0m | \u001b[1mINFO    \u001b[0m | \u001b[36mmltrainer.trainer\u001b[0m:\u001b[36mreport\u001b[0m:\u001b[36m209\u001b[0m - \u001b[1mEpoch 25 train 0.0018 test 0.0071 metric ['0.9969']\u001b[0m\n",
      "\u001b[32m2025-09-27 14:35:13.169\u001b[0m | \u001b[1mINFO    \u001b[0m | \u001b[36mmltrainer.trainer\u001b[0m:\u001b[36m__call__\u001b[0m:\u001b[36m252\u001b[0m - \u001b[1mbest loss: 0.0055, current loss 0.0071.Counter 5/8.\u001b[0m\n",
      "100%|\u001b[38;2;30;71;6m██████████\u001b[0m| 81/81 [00:01<00:00, 45.90it/s]\n",
      "\u001b[32m2025-09-27 14:35:15.112\u001b[0m | \u001b[1mINFO    \u001b[0m | \u001b[36mmltrainer.trainer\u001b[0m:\u001b[36mreport\u001b[0m:\u001b[36m209\u001b[0m - \u001b[1mEpoch 26 train 0.0018 test 0.0059 metric ['0.9969']\u001b[0m\n",
      "\u001b[32m2025-09-27 14:35:15.112\u001b[0m | \u001b[1mINFO    \u001b[0m | \u001b[36mmltrainer.trainer\u001b[0m:\u001b[36m__call__\u001b[0m:\u001b[36m252\u001b[0m - \u001b[1mbest loss: 0.0055, current loss 0.0059.Counter 6/8.\u001b[0m\n",
      "100%|\u001b[38;2;30;71;6m██████████\u001b[0m| 81/81 [00:01<00:00, 46.92it/s]\n",
      "\u001b[32m2025-09-27 14:35:17.000\u001b[0m | \u001b[1mINFO    \u001b[0m | \u001b[36mmltrainer.trainer\u001b[0m:\u001b[36mreport\u001b[0m:\u001b[36m209\u001b[0m - \u001b[1mEpoch 27 train 0.0018 test 0.0074 metric ['0.9969']\u001b[0m\n",
      "\u001b[32m2025-09-27 14:35:17.000\u001b[0m | \u001b[1mINFO    \u001b[0m | \u001b[36mmltrainer.trainer\u001b[0m:\u001b[36m__call__\u001b[0m:\u001b[36m252\u001b[0m - \u001b[1mbest loss: 0.0055, current loss 0.0074.Counter 7/8.\u001b[0m\n",
      "100%|\u001b[38;2;30;71;6m██████████\u001b[0m| 81/81 [00:01<00:00, 48.24it/s]\n",
      "\u001b[32m2025-09-27 14:35:18.849\u001b[0m | \u001b[1mINFO    \u001b[0m | \u001b[36mmltrainer.trainer\u001b[0m:\u001b[36mreport\u001b[0m:\u001b[36m209\u001b[0m - \u001b[1mEpoch 28 train 0.0012 test 0.0065 metric ['0.9969']\u001b[0m\n",
      "\u001b[32m2025-09-27 14:35:18.849\u001b[0m | \u001b[1mINFO    \u001b[0m | \u001b[36mmltrainer.trainer\u001b[0m:\u001b[36m__call__\u001b[0m:\u001b[36m252\u001b[0m - \u001b[1mbest loss: 0.0055, current loss 0.0065.Counter 8/8.\u001b[0m\n",
      "\u001b[32m2025-09-27 14:35:18.849\u001b[0m | \u001b[1mINFO    \u001b[0m | \u001b[36mmltrainer.trainer\u001b[0m:\u001b[36mloop\u001b[0m:\u001b[36m103\u001b[0m - \u001b[1mInterrupting loop due to early stopping patience.\u001b[0m\n",
      "\u001b[32m2025-09-27 14:35:18.850\u001b[0m | \u001b[1mINFO    \u001b[0m | \u001b[36mmltrainer.trainer\u001b[0m:\u001b[36mloop\u001b[0m:\u001b[36m108\u001b[0m - \u001b[1mearly_stopping_save was false, using latest model.Set to true to retrieve best model.\u001b[0m\n",
      " 80%|\u001b[38;2;30;71;6m████████  \u001b[0m| 28/35 [00:54<00:13,  1.94s/it]\n"
     ]
    }
   ],
   "source": [
    "import mlflow\n",
    "from datetime import datetime\n",
    "\n",
    "mlflow.set_tracking_uri(\"sqlite:///mlflow.db\")\n",
    "mlflow.set_experiment(\"gestures\")\n",
    "modeldir = Path(\"gestures\").resolve()\n",
    "if not modeldir.exists():\n",
    "    modeldir.mkdir(parents=True)\n",
    "\n",
    "with mlflow.start_run():\n",
    "    mlflow.set_tag(\"model\", \"modelname-here\")\n",
    "    mlflow.set_tag(\"dev\", \"your-name-here\")\n",
    "    config = ModelConfig(\n",
    "        input_size=3,\n",
    "        hidden_size=256,\n",
    "        num_layers=2,\n",
    "        output_size=20,\n",
    "        dropout=0.1,\n",
    "    )\n",
    "\n",
    "    model = GRUmodel(\n",
    "        config=config,\n",
    "    )\n",
    "\n",
    "    trainer = Trainer(\n",
    "        model=model,\n",
    "        settings=settings,\n",
    "        loss_fn=loss_fn,\n",
    "        optimizer=optim.Adam,\n",
    "        traindataloader=trainstreamer,\n",
    "        validdataloader=validstreamer,\n",
    "        scheduler=optim.lr_scheduler.ReduceLROnPlateau,\n",
    "        device=device,\n",
    "    )\n",
    "    trainer.loop()\n",
    "\n",
    "    if not settings.earlystop_kwargs[\"save\"]:\n",
    "        tag = datetime.now().strftime(\"%Y%m%d-%H%M-\")\n",
    "        modelpath = modeldir / (tag + \"model.pt\")\n",
    "        torch.save(model, modelpath)"
   ]
  },
  {
   "attachments": {},
   "cell_type": "markdown",
   "metadata": {},
   "source": [
    "Try to update the code above by changing the hyperparameters.\n",
    "    \n",
    "To discern between the changes, also modify the tag mlflow.set_tag(\"model\", \"new-tag-here\") where you add\n",
    "a new tag of your choice. This way you can keep the models apart."
   ]
  },
  {
   "cell_type": "code",
   "execution_count": 189,
   "metadata": {},
   "outputs": [
    {
     "name": "stderr",
     "output_type": "stream",
     "text": [
      "100%|\u001b[38;2;30;71;6m██████████\u001b[0m| 81/81 [00:01<00:00, 47.31it/s]\n",
      "\u001b[32m2025-09-27 14:35:20.733\u001b[0m | \u001b[1mINFO    \u001b[0m | \u001b[36mmltrainer.trainer\u001b[0m:\u001b[36mreport\u001b[0m:\u001b[36m175\u001b[0m - \u001b[1mResuming epochs from previous training at 57\u001b[0m\n",
      "\u001b[32m2025-09-27 14:35:20.755\u001b[0m | \u001b[1mINFO    \u001b[0m | \u001b[36mmltrainer.trainer\u001b[0m:\u001b[36mreport\u001b[0m:\u001b[36m209\u001b[0m - \u001b[1mEpoch 57 train 0.0015 test 0.0064 metric ['0.9969']\u001b[0m\n",
      "\u001b[32m2025-09-27 14:35:20.755\u001b[0m | \u001b[1mINFO    \u001b[0m | \u001b[36mmltrainer.trainer\u001b[0m:\u001b[36m__call__\u001b[0m:\u001b[36m252\u001b[0m - \u001b[1mbest loss: 0.0055, current loss 0.0064.Counter 9/8.\u001b[0m\n",
      "\u001b[32m2025-09-27 14:35:20.755\u001b[0m | \u001b[1mINFO    \u001b[0m | \u001b[36mmltrainer.trainer\u001b[0m:\u001b[36mloop\u001b[0m:\u001b[36m103\u001b[0m - \u001b[1mInterrupting loop due to early stopping patience.\u001b[0m\n",
      "\u001b[32m2025-09-27 14:35:20.755\u001b[0m | \u001b[1mINFO    \u001b[0m | \u001b[36mmltrainer.trainer\u001b[0m:\u001b[36mloop\u001b[0m:\u001b[36m108\u001b[0m - \u001b[1mearly_stopping_save was false, using latest model.Set to true to retrieve best model.\u001b[0m\n",
      "  0%|\u001b[38;2;30;71;6m          \u001b[0m| 0/35 [00:01<?, ?it/s]\n"
     ]
    }
   ],
   "source": [
    "trainer.loop() # if you want to pick up training, loop will continue from the last epoch"
   ]
  },
  {
   "cell_type": "code",
   "execution_count": 190,
   "metadata": {},
   "outputs": [],
   "source": [
    "mlflow.end_run()"
   ]
  }
 ],
 "metadata": {
  "kernelspec": {
   "display_name": "portfolio-example",
   "language": "python",
   "name": "python3"
  },
  "language_info": {
   "codemirror_mode": {
    "name": "ipython",
    "version": 3
   },
   "file_extension": ".py",
   "mimetype": "text/x-python",
   "name": "python",
   "nbconvert_exporter": "python",
   "pygments_lexer": "ipython3",
   "version": "3.12.11"
  }
 },
 "nbformat": 4,
 "nbformat_minor": 2
}
