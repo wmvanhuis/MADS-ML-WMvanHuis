{
 "cells": [
  {
   "cell_type": "markdown",
   "id": "82baab58",
   "metadata": {},
   "source": [
    "First download the hymenoptera datasat"
   ]
  },
  {
   "cell_type": "code",
   "execution_count": 3,
   "id": "fd0eba99",
   "metadata": {},
   "outputs": [],
   "source": [
    "from pathlib import Path\n",
    "import zipfile\n",
    "from loguru import logger"
   ]
  },
  {
   "cell_type": "code",
   "execution_count": 4,
   "id": "17bf3287",
   "metadata": {},
   "outputs": [
    {
     "name": "stderr",
     "output_type": "stream",
     "text": [
      "\u001b[32m2025-10-11 15:11:29.912\u001b[0m | \u001b[1mINFO    \u001b[0m | \u001b[36m__main__\u001b[0m:\u001b[36mget_hymenoptera\u001b[0m:\u001b[36m18\u001b[0m - \u001b[1mDirectory /Users/wouter/.cache/mads_datasets/hymenoptera_data already exists, skipping download.\u001b[0m\n"
     ]
    }
   ],
   "source": [
    "def get_hymenoptera():\n",
    "    datadir = Path.home() / \".cache/mads_datasets/hymenoptera_data\"\n",
    "    url = \"https://download.pytorch.org/tutorial/hymenoptera_data.zip\"\n",
    "    if not datadir.exists():\n",
    "        logger.info(f\"Creating directory {datadir}\")\n",
    "        datadir.mkdir(parents=True)\n",
    "\n",
    "        response = requests.get(url)\n",
    "        zip_file_path = datadir / \"hymenoptera_data.zip\"\n",
    "        with open(zip_file_path, \"wb\") as f:\n",
    "            f.write(response.content)\n",
    "\n",
    "        logger.info(f\"Extracting {zip_file_path}\")\n",
    "        with zipfile.ZipFile(zip_file_path, \"r\") as zip_ref:\n",
    "            zip_ref.extractall(datadir)\n",
    "        zip_file_path.unlink()\n",
    "    else:\n",
    "        logger.info(f\"Directory {datadir} already exists, skipping download.\")\n",
    "    return datadir / \"hymenoptera_data\"\n",
    "\n",
    "datadir = get_hymenoptera()"
   ]
  },
  {
   "cell_type": "markdown",
   "id": "2ad9a067",
   "metadata": {},
   "source": [
    "Then print the output to check what is inside."
   ]
  },
  {
   "cell_type": "code",
   "execution_count": 6,
   "id": "c2089960",
   "metadata": {},
   "outputs": [
    {
     "name": "stderr",
     "output_type": "stream",
     "text": [
      "\u001b[32m2025-10-11 15:25:46.840\u001b[0m | \u001b[1mINFO    \u001b[0m | \u001b[36m__main__\u001b[0m:\u001b[36mget_hymenoptera\u001b[0m:\u001b[36m18\u001b[0m - \u001b[1mDirectory /Users/wouter/.cache/mads_datasets/hymenoptera_data already exists, skipping download.\u001b[0m\n"
     ]
    },
    {
     "name": "stdout",
     "output_type": "stream",
     "text": [
      "Dataset directory: /Users/wouter/.cache/mads_datasets/hymenoptera_data/hymenoptera_data\n",
      "Inhoud van de dataset folder:\n",
      " - /Users/wouter/.cache/mads_datasets/hymenoptera_data/hymenoptera_data/train\n",
      " - /Users/wouter/.cache/mads_datasets/hymenoptera_data/hymenoptera_data/val\n",
      "\n",
      "Train classes:\n",
      " - bees: 121 images\n",
      " - ants: 124 images\n",
      "\n",
      "Validation classes:\n",
      " - bees: 83 images\n",
      " - ants: 70 images\n"
     ]
    }
   ],
   "source": [
    "from pathlib import Path\n",
    "import os\n",
    "\n",
    "datadir = get_hymenoptera()\n",
    "\n",
    "# print het pad zelf\n",
    "print(\"Dataset directory:\", datadir)\n",
    "\n",
    "# print de inhoud van de hoofdfolder\n",
    "print(\"Inhoud van de dataset folder:\")\n",
    "for item in datadir.iterdir():\n",
    "    print(\" -\", item)\n",
    "\n",
    "# eventueel ook dieper kijken in train/val\n",
    "train_dir = datadir / \"train\"\n",
    "val_dir = datadir / \"val\"\n",
    "\n",
    "print(\"\\nTrain classes:\")\n",
    "for cls in train_dir.iterdir():\n",
    "    print(f\" - {cls.name}: {len(list(cls.iterdir()))} images\")\n",
    "\n",
    "print(\"\\nValidation classes:\")\n",
    "for cls in val_dir.iterdir():\n",
    "    print(f\" - {cls.name}: {len(list(cls.iterdir()))} images\")"
   ]
  },
  {
   "cell_type": "markdown",
   "id": "a819446f",
   "metadata": {},
   "source": [
    "Hypothesis:\n",
    "A convolutional neural network with multiple conv2d layers, batch normalization, and dropout will achieve higher classification accuracy on the hymenoptera dataset than a simple linear model, because the spatial structure in the images (wings, body shape, antennae) can be better captured by convolutional layers."
   ]
  }
 ],
 "metadata": {
  "kernelspec": {
   "display_name": "portfolio-example",
   "language": "python",
   "name": "python3"
  },
  "language_info": {
   "codemirror_mode": {
    "name": "ipython",
    "version": 3
   },
   "file_extension": ".py",
   "mimetype": "text/x-python",
   "name": "python",
   "nbconvert_exporter": "python",
   "pygments_lexer": "ipython3",
   "version": "3.12.11"
  }
 },
 "nbformat": 4,
 "nbformat_minor": 5
}
